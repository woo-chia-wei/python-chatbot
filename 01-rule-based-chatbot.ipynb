{
 "cells": [
  {
   "cell_type": "markdown",
   "metadata": {},
   "source": [
    "# Define templates and rules"
   ]
  },
  {
   "cell_type": "code",
   "execution_count": 1,
   "metadata": {},
   "outputs": [],
   "source": [
    "bot_template = \"BOT : {0}\"\n",
    "user_template = \"USER : {0}\"\n",
    "\n",
    "rules = {\n",
    "    'I want (.*)': ['What would it mean if you got {0}',\n",
    "                    'Why do you want {0}',\n",
    "                    \"What's stopping you from getting {0}\"],\n",
    "    \n",
    "    'do you remember (.*)': ['Did you think I would forget {0}',\n",
    "                              \"Why haven't you been able to forget {0}\",\n",
    "                              'What about {0}',\n",
    "                              'Yes .. and?'],\n",
    "    \n",
    "    'do you think (.*)': ['if {0}? Absolutely.', \n",
    "                          'No chance'],\n",
    "    \n",
    "    'if (.*)': [\"Do you really think it's likely that {0}\",\n",
    "                'Do you wish that {0}',\n",
    "                'What do you think about {0}',\n",
    "                'Really--if {0}']\n",
    "}"
   ]
  },
  {
   "cell_type": "markdown",
   "metadata": {},
   "source": [
    "# Create chitchat functions with personality"
   ]
  },
  {
   "cell_type": "code",
   "execution_count": 2,
   "metadata": {},
   "outputs": [],
   "source": [
    "import re\n",
    "import random\n",
    "\n",
    "def match_rule(rules, message):\n",
    "    response, phrase = \"default\", None\n",
    "    \n",
    "    for pattern, responses in rules.items():\n",
    "        match = re.search(pattern, message)\n",
    "        if match is not None:\n",
    "            response = random.choice(responses)\n",
    "            if '{0}' in response:\n",
    "                phrase = response.format(match.group(1))\n",
    "    return response, phrase\n",
    "\n",
    "def replace_pronouns(message):\n",
    "    message = message.lower()\n",
    "    if 'me' in message:\n",
    "        return re.sub('me', 'you', message)\n",
    "    if 'my' in message:\n",
    "        return re.sub('my', 'your', message)\n",
    "    if 'your' in message:\n",
    "        return re.sub('your', 'my', message)\n",
    "    if 'you' in message:\n",
    "        return re.sub('you', 'me', message)\n",
    "\n",
    "    return message\n",
    "\n",
    "def respond(message):\n",
    "    response, phrase = match_rule(rules, message)\n",
    "    if '{0}' in response:\n",
    "        phrase = replace_pronouns(phrase)\n",
    "        response = response.format(phrase)\n",
    "    return response\n",
    "\n",
    "def send_message(message):\n",
    "    print(user_template.format(message))\n",
    "    response = respond(message)\n",
    "    print(bot_template.format(response))"
   ]
  },
  {
   "cell_type": "markdown",
   "metadata": {},
   "source": [
    "# Examples"
   ]
  },
  {
   "cell_type": "code",
   "execution_count": 3,
   "metadata": {},
   "outputs": [
    {
     "name": "stdout",
     "output_type": "stream",
     "text": [
      "USER : do you remember your last birthday\n",
      "BOT : Did you think I would forget did you think i would forget my last birthday\n",
      "USER : do you think humans should be worried about AI\n",
      "BOT : No chance\n",
      "USER : I want a robot friend\n",
      "BOT : Why do you want why do me want a robot friend\n",
      "USER : what if you could be anything you wanted\n",
      "BOT : Really--if really--if me could be anything me wanted\n"
     ]
    }
   ],
   "source": [
    "send_message(\"do you remember your last birthday\")\n",
    "send_message(\"do you think humans should be worried about AI\")\n",
    "send_message(\"I want a robot friend\")\n",
    "send_message(\"what if you could be anything you wanted\")"
   ]
  }
 ],
 "metadata": {
  "kernelspec": {
   "display_name": "Python 3",
   "language": "python",
   "name": "python3"
  },
  "language_info": {
   "codemirror_mode": {
    "name": "ipython",
    "version": 3
   },
   "file_extension": ".py",
   "mimetype": "text/x-python",
   "name": "python",
   "nbconvert_exporter": "python",
   "pygments_lexer": "ipython3",
   "version": "3.6.1"
  }
 },
 "nbformat": 4,
 "nbformat_minor": 2
}
